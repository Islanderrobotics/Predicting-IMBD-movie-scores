{
 "cells": [
  {
   "cell_type": "code",
   "execution_count": 155,
   "metadata": {
    "collapsed": true,
    "pycharm": {
     "name": "#%%\n"
    }
   },
   "outputs": [],
   "source": [
    "import pandas as pd\n",
    "import numpy as np\n",
    "from sklearn.naive_bayes import GaussianNB\n",
    "import seaborn as sns\n",
    "import irdatacleaning as ird\n",
    "import islanders as ir"
   ]
  },
  {
   "cell_type": "code",
   "execution_count": 156,
   "outputs": [],
   "source": [
    "movies = ir.datasets(\"movie\")"
   ],
   "metadata": {
    "collapsed": false,
    "pycharm": {
     "name": "#%%\n"
    }
   }
  },
  {
   "cell_type": "code",
   "execution_count": 157,
   "outputs": [
    {
     "data": {
      "text/plain": "                                  title    rating run time  year   genre  \\\n0              The Shawshank Redemption         R   2H:22M  1994   Drama   \n1                         The Godfather         R   2H:55M  1972   Crime   \n2                The Godfather: Part II         R   3H:22M  1974   Crime   \n3                       The Dark Knight     PG-13   2H:32M  2008  Action   \n4                          12 Angry Men  Approved   1H:36M  1957   Crime   \n..                                  ...       ...      ...   ...     ...   \n23       Guardians of the Galaxy Vol. 2     PG-13   2H:16M  2007  Action   \n24                           Iron Man 2     PG-13    2H:4M  2010  Action   \n25  Captain America: The Winter Soldier     PG-13   2H:16M  2014  Action   \n26                  The Incredible Hulk     PG-13   1H:52M  2008  Action   \n27                              Ant-Man     PG-13   1H:57M  2015  Action   \n\n                Director  Score  \n0         Frank Darabont    9.2  \n1   Francis Ford Coppola    9.1  \n2   Francis Ford Coppola    9.0  \n3      Christopher Nolan    9.0  \n4           Sidney Lumet    8.9  \n..                   ...    ...  \n23            James Gunn    7.6  \n24           Jon Favreau    7.0  \n25         Anthony Russo    7.7  \n26       Louis Leterrier    6.6  \n27           Peyton Reed    7.3  \n\n[367 rows x 7 columns]",
      "text/html": "<div>\n<style scoped>\n    .dataframe tbody tr th:only-of-type {\n        vertical-align: middle;\n    }\n\n    .dataframe tbody tr th {\n        vertical-align: top;\n    }\n\n    .dataframe thead th {\n        text-align: right;\n    }\n</style>\n<table border=\"1\" class=\"dataframe\">\n  <thead>\n    <tr style=\"text-align: right;\">\n      <th></th>\n      <th>title</th>\n      <th>rating</th>\n      <th>run time</th>\n      <th>year</th>\n      <th>genre</th>\n      <th>Director</th>\n      <th>Score</th>\n    </tr>\n  </thead>\n  <tbody>\n    <tr>\n      <th>0</th>\n      <td>The Shawshank Redemption</td>\n      <td>R</td>\n      <td>2H:22M</td>\n      <td>1994</td>\n      <td>Drama</td>\n      <td>Frank Darabont</td>\n      <td>9.2</td>\n    </tr>\n    <tr>\n      <th>1</th>\n      <td>The Godfather</td>\n      <td>R</td>\n      <td>2H:55M</td>\n      <td>1972</td>\n      <td>Crime</td>\n      <td>Francis Ford Coppola</td>\n      <td>9.1</td>\n    </tr>\n    <tr>\n      <th>2</th>\n      <td>The Godfather: Part II</td>\n      <td>R</td>\n      <td>3H:22M</td>\n      <td>1974</td>\n      <td>Crime</td>\n      <td>Francis Ford Coppola</td>\n      <td>9.0</td>\n    </tr>\n    <tr>\n      <th>3</th>\n      <td>The Dark Knight</td>\n      <td>PG-13</td>\n      <td>2H:32M</td>\n      <td>2008</td>\n      <td>Action</td>\n      <td>Christopher Nolan</td>\n      <td>9.0</td>\n    </tr>\n    <tr>\n      <th>4</th>\n      <td>12 Angry Men</td>\n      <td>Approved</td>\n      <td>1H:36M</td>\n      <td>1957</td>\n      <td>Crime</td>\n      <td>Sidney Lumet</td>\n      <td>8.9</td>\n    </tr>\n    <tr>\n      <th>...</th>\n      <td>...</td>\n      <td>...</td>\n      <td>...</td>\n      <td>...</td>\n      <td>...</td>\n      <td>...</td>\n      <td>...</td>\n    </tr>\n    <tr>\n      <th>23</th>\n      <td>Guardians of the Galaxy Vol. 2</td>\n      <td>PG-13</td>\n      <td>2H:16M</td>\n      <td>2007</td>\n      <td>Action</td>\n      <td>James Gunn</td>\n      <td>7.6</td>\n    </tr>\n    <tr>\n      <th>24</th>\n      <td>Iron Man 2</td>\n      <td>PG-13</td>\n      <td>2H:4M</td>\n      <td>2010</td>\n      <td>Action</td>\n      <td>Jon Favreau</td>\n      <td>7.0</td>\n    </tr>\n    <tr>\n      <th>25</th>\n      <td>Captain America: The Winter Soldier</td>\n      <td>PG-13</td>\n      <td>2H:16M</td>\n      <td>2014</td>\n      <td>Action</td>\n      <td>Anthony Russo</td>\n      <td>7.7</td>\n    </tr>\n    <tr>\n      <th>26</th>\n      <td>The Incredible Hulk</td>\n      <td>PG-13</td>\n      <td>1H:52M</td>\n      <td>2008</td>\n      <td>Action</td>\n      <td>Louis Leterrier</td>\n      <td>6.6</td>\n    </tr>\n    <tr>\n      <th>27</th>\n      <td>Ant-Man</td>\n      <td>PG-13</td>\n      <td>1H:57M</td>\n      <td>2015</td>\n      <td>Action</td>\n      <td>Peyton Reed</td>\n      <td>7.3</td>\n    </tr>\n  </tbody>\n</table>\n<p>367 rows × 7 columns</p>\n</div>"
     },
     "execution_count": 157,
     "metadata": {},
     "output_type": "execute_result"
    }
   ],
   "source": [
    "movies"
   ],
   "metadata": {
    "collapsed": false,
    "pycharm": {
     "name": "#%%\n"
    }
   }
  },
  {
   "cell_type": "code",
   "execution_count": 158,
   "outputs": [
    {
     "name": "stdout",
     "output_type": "stream",
     "text": [
      "<class 'pandas.core.frame.DataFrame'>\n",
      "Int64Index: 367 entries, 0 to 27\n",
      "Data columns (total 7 columns):\n",
      " #   Column    Non-Null Count  Dtype  \n",
      "---  ------    --------------  -----  \n",
      " 0   title     367 non-null    object \n",
      " 1   rating    367 non-null    object \n",
      " 2   run time  367 non-null    object \n",
      " 3   year      367 non-null    int64  \n",
      " 4   genre     367 non-null    object \n",
      " 5   Director  367 non-null    object \n",
      " 6   Score     367 non-null    float64\n",
      "dtypes: float64(1), int64(1), object(5)\n",
      "memory usage: 22.9+ KB\n"
     ]
    }
   ],
   "source": [
    "movies.info()"
   ],
   "metadata": {
    "collapsed": false,
    "pycharm": {
     "name": "#%%\n"
    }
   }
  },
  {
   "cell_type": "code",
   "execution_count": 159,
   "outputs": [],
   "source": [
    "movies.drop_duplicates(subset = [\"title\"], keep = \"last\", inplace=True)\n",
    "# sns.pairplot(movies)"
   ],
   "metadata": {
    "collapsed": false,
    "pycharm": {
     "name": "#%%\n"
    }
   }
  },
  {
   "cell_type": "code",
   "execution_count": 160,
   "outputs": [],
   "source": [
    "movies.drop(columns = \"year\", inplace = True)"
   ],
   "metadata": {
    "collapsed": false,
    "pycharm": {
     "name": "#%%\n"
    }
   }
  },
  {
   "cell_type": "code",
   "execution_count": 167,
   "outputs": [],
   "source": [
    "predict = {\n",
    "    \"title\":[\"Morbius\"],\n",
    "    \"rating\":[\"PG-13\"],\n",
    "    \"run time\":[\"1H:48M\"],\n",
    "    \"genre\":[\"Action\"],\n",
    "    \"Director\":[\"Daniel Espinosa\"]\n",
    "}\n",
    "predicted_pd = pd.DataFrame(predict)\n",
    "predicted_movies = pd.concat([movies,predicted_pd])"
   ],
   "metadata": {
    "collapsed": false,
    "pycharm": {
     "name": "#%%\n"
    }
   }
  },
  {
   "cell_type": "code",
   "execution_count": 168,
   "outputs": [
    {
     "name": "stdout",
     "output_type": "stream",
     "text": [
      "<class 'pandas.core.frame.DataFrame'>\n",
      "Int64Index: 350 entries, 1 to 0\n",
      "Data columns (total 6 columns):\n",
      " #   Column    Non-Null Count  Dtype  \n",
      "---  ------    --------------  -----  \n",
      " 0   title     350 non-null    object \n",
      " 1   rating    350 non-null    object \n",
      " 2   run time  350 non-null    object \n",
      " 3   genre     350 non-null    object \n",
      " 4   Director  350 non-null    object \n",
      " 5   Score     349 non-null    float64\n",
      "dtypes: float64(1), object(5)\n",
      "memory usage: 19.1+ KB\n"
     ]
    }
   ],
   "source": [
    "predicted_movies.info()"
   ],
   "metadata": {
    "collapsed": false,
    "pycharm": {
     "name": "#%%\n"
    }
   }
  },
  {
   "cell_type": "code",
   "execution_count": 169,
   "outputs": [],
   "source": [
    "run_time = predicted_movies[\"run time\"]"
   ],
   "metadata": {
    "collapsed": false,
    "pycharm": {
     "name": "#%%\n"
    }
   }
  },
  {
   "cell_type": "code",
   "execution_count": 170,
   "outputs": [],
   "source": [
    "new_run = []\n",
    "for i in run_time:\n",
    "    hour = int(i.split(\"H\")[0])*60\n",
    "    minutes = int(i.split(\":\")[1].split(\"M\")[0])\n",
    "    new_run.append(hour+minutes)"
   ],
   "metadata": {
    "collapsed": false,
    "pycharm": {
     "name": "#%%\n"
    }
   }
  },
  {
   "cell_type": "code",
   "execution_count": 171,
   "outputs": [
    {
     "data": {
      "text/plain": "[175,\n 202,\n 152,\n 96,\n 195,\n 201,\n 154,\n 178,\n 178,\n 139,\n 142,\n 148,\n 179,\n 124,\n 146,\n 133,\n 207,\n 127,\n 118,\n 130,\n 116,\n 169,\n 121,\n 169,\n 125,\n 189,\n 132,\n 110,\n 133,\n 150,\n 137,\n 116,\n 106,\n 109,\n 88,\n 87,\n 89,\n 119,\n 106,\n 155,\n 87,\n 151,\n 112,\n 130,\n 102,\n 165,\n 112,\n 155,\n 117,\n 147,\n 113,\n 115,\n 125,\n 165,\n 137,\n 88,\n 110,\n 98,\n 116,\n 146,\n 95,\n 134,\n 104,\n 122,\n 106,\n 105,\n 164,\n 137,\n 229,\n 126,\n 149,\n 143,\n 170,\n 81,\n 122,\n 160,\n 178,\n 153,\n 160,\n 126,\n 131,\n 149,\n 142,\n 99,\n 165,\n 128,\n 99,\n 119,\n 115,\n 102,\n 103,\n 136,\n 108,\n 143,\n 89,\n 228,\n 68,\n 116,\n 161,\n 131,\n 125,\n 97,\n 107,\n 153,\n 114,\n 136,\n 123,\n 129,\n 170,\n 102,\n 119,\n 122,\n 125,\n 129,\n 103,\n 132,\n 96,\n 127,\n 170,\n 138,\n 110,\n 162,\n 88,\n 130,\n 156,\n 91,\n 138,\n 121,\n 140,\n 130,\n 89,\n 164,\n 119,\n 180,\n 179,\n 158,\n 172,\n 178,\n 126,\n 118,\n 135,\n 129,\n 129,\n 130,\n 86,\n 142,\n 138,\n 107,\n 122,\n 105,\n 95,\n 109,\n 115,\n 96,\n 124,\n 107,\n 103,\n 127,\n 91,\n 93,\n 132,\n 132,\n 117,\n 93,\n 95,\n 161,\n 98,\n 100,\n 140,\n 111,\n 238,\n 136,\n 108,\n 112,\n 122,\n 162,\n 153,\n 183,\n 99,\n 67,\n 45,\n 116,\n 83,\n 127,\n 101,\n 92,\n 141,\n 129,\n 133,\n 185,\n 118,\n 149,\n 139,\n 114,\n 139,\n 152,\n 134,\n 99,\n 117,\n 128,\n 98,\n 120,\n 212,\n 99,\n 130,\n 132,\n 145,\n 131,\n 89,\n 121,\n 137,\n 127,\n 98,\n 93,\n 130,\n 99,\n 321,\n 120,\n 129,\n 92,\n 130,\n 94,\n 98,\n 128,\n 121,\n 123,\n 148,\n 120,\n 154,\n 117,\n 105,\n 188,\n 80,\n 205,\n 87,\n 121,\n 110,\n 98,\n 117,\n 170,\n 148,\n 138,\n 102,\n 97,\n 112,\n 135,\n 136,\n 103,\n 131,\n 107,\n 133,\n 126,\n 130,\n 179,\n 121,\n 156,\n 130,\n 132,\n 150,\n 104,\n 97,\n 155,\n 136,\n 120,\n 163,\n 110,\n 152,\n 138,\n 106,\n 93,\n 107,\n 142,\n 97,\n 158,\n 129,\n 127,\n 97,\n 162,\n 115,\n 120,\n 112,\n 85,\n 101,\n 100,\n 130,\n 105,\n 107,\n 96,\n 136,\n 110,\n 103,\n 172,\n 117,\n 118,\n 152,\n 108,\n 99,\n 110,\n 112,\n 124,\n 104,\n 97,\n 138,\n 89,\n 115,\n 104,\n 104,\n 104,\n 99,\n 95,\n 93,\n 119,\n 116,\n 142,\n 85,\n 96,\n 92,\n 105,\n 109,\n 132,\n 88,\n 98,\n 94,\n 148,\n 133,\n 129,\n 139,\n 132,\n 156,\n 181,\n 134,\n 149,\n 115,\n 147,\n 126,\n 143,\n 130,\n 121,\n 134,\n 123,\n 124,\n 141,\n 130,\n 115,\n 136,\n 124,\n 136,\n 112,\n 117,\n 108]"
     },
     "execution_count": 171,
     "metadata": {},
     "output_type": "execute_result"
    }
   ],
   "source": [
    "new_run"
   ],
   "metadata": {
    "collapsed": false,
    "pycharm": {
     "name": "#%%\n"
    }
   }
  },
  {
   "cell_type": "code",
   "execution_count": 172,
   "outputs": [],
   "source": [
    "predicted_movies[\"run time\"] = new_run"
   ],
   "metadata": {
    "collapsed": false,
    "pycharm": {
     "name": "#%%\n"
    }
   }
  },
  {
   "cell_type": "code",
   "execution_count": 173,
   "outputs": [
    {
     "name": "stdout",
     "output_type": "stream",
     "text": [
      "<class 'pandas.core.frame.DataFrame'>\n",
      "Int64Index: 350 entries, 1 to 0\n",
      "Data columns (total 6 columns):\n",
      " #   Column    Non-Null Count  Dtype  \n",
      "---  ------    --------------  -----  \n",
      " 0   title     350 non-null    object \n",
      " 1   rating    350 non-null    object \n",
      " 2   run time  350 non-null    int64  \n",
      " 3   genre     350 non-null    object \n",
      " 4   Director  350 non-null    object \n",
      " 5   Score     349 non-null    float64\n",
      "dtypes: float64(1), int64(1), object(4)\n",
      "memory usage: 19.1+ KB\n"
     ]
    }
   ],
   "source": [
    "movies = predicted_movies\n",
    "movies.info()\n"
   ],
   "metadata": {
    "collapsed": false,
    "pycharm": {
     "name": "#%%\n"
    }
   }
  },
  {
   "cell_type": "code",
   "execution_count": 174,
   "outputs": [
    {
     "data": {
      "text/plain": "The Godfather                1\nIt Happened One Night        1\nDemon Slayer: Mugen Train    1\nThe Princess Bride           1\nNights of Cabiria            1\n                            ..\nFor a Few Dollars More       1\nToy Story 3                  1\nTo Kill a Mockingbird        1\nPather Panchali              1\nMorbius                      1\nName: title, Length: 350, dtype: int64"
     },
     "execution_count": 174,
     "metadata": {},
     "output_type": "execute_result"
    }
   ],
   "source": [
    "movies[\"title\"].value_counts()"
   ],
   "metadata": {
    "collapsed": false,
    "pycharm": {
     "name": "#%%\n"
    }
   }
  },
  {
   "cell_type": "code",
   "execution_count": 175,
   "outputs": [
    {
     "data": {
      "text/plain": "R            126\nPG-13         72\nPG            55\nNot Rated     40\nG             20\nPassed        15\nApproved      13\nTV-MA          3\nTV-PG          2\nUnrated        1\nX              1\nM              1\nGP             1\nName: rating, dtype: int64"
     },
     "execution_count": 175,
     "metadata": {},
     "output_type": "execute_result"
    }
   ],
   "source": [
    "movies[\"rating\"].value_counts()"
   ],
   "metadata": {
    "collapsed": false,
    "pycharm": {
     "name": "#%%\n"
    }
   }
  },
  {
   "cell_type": "code",
   "execution_count": 176,
   "outputs": [
    {
     "data": {
      "text/plain": "Action       87\nDrama        79\nComedy       47\nCrime        39\nAnimation    32\nAdventure    28\nBiography    27\nMystery       4\nHorror        3\nWestern       2\nFilm-Noir     1\nThriller      1\nName: genre, dtype: int64"
     },
     "execution_count": 176,
     "metadata": {},
     "output_type": "execute_result"
    }
   ],
   "source": [
    "movies[\"genre\"].value_counts()"
   ],
   "metadata": {
    "collapsed": false,
    "pycharm": {
     "name": "#%%\n"
    }
   }
  },
  {
   "cell_type": "code",
   "execution_count": 177,
   "outputs": [
    {
     "data": {
      "text/plain": "Martin Scorsese      7\nAkira Kurosawa       7\nChristopher Nolan    7\nSteven Spielberg     7\nStanley Kubrick      7\n                    ..\nRoger Allers         1\nClyde Bruckman       1\nBuster Keaton        1\nCosta-Gavras         1\nDaniel Espinosa      1\nName: Director, Length: 224, dtype: int64"
     },
     "execution_count": 177,
     "metadata": {},
     "output_type": "execute_result"
    }
   ],
   "source": [
    "movies[\"Director\"].value_counts()"
   ],
   "metadata": {
    "collapsed": false,
    "pycharm": {
     "name": "#%%\n"
    }
   }
  },
  {
   "cell_type": "code",
   "execution_count": 178,
   "outputs": [
    {
     "name": "stderr",
     "output_type": "stream",
     "text": [
      "/opt/homebrew/Caskroom/miniforge/base/lib/python3.9/site-packages/irdatacleaning/encoder2.py:67: PerformanceWarning: DataFrame is highly fragmented.  This is usually the result of calling `frame.insert` many times, which has poor performance.  Consider joining all columns at once using pd.concat(axis=1) instead.  To get a de-fragmented frame, use `newframe = frame.copy()`\n",
      "  self.df[j] = new_df[j]\n"
     ]
    }
   ],
   "source": [
    "encoded_list = [\"rating\", \"genre\", \"Director\"]\n",
    "encoded = ird.Encoder(df = movies, columns=encoded_list)\n",
    "movies = encoded.check()"
   ],
   "metadata": {
    "collapsed": false,
    "pycharm": {
     "name": "#%%\n"
    }
   }
  },
  {
   "cell_type": "code",
   "execution_count": 179,
   "outputs": [
    {
     "data": {
      "text/plain": "                                  title  run time  Score  Approved  G  GP  M  \\\n1                         The Godfather       175    9.1         0  0   0  0   \n2                The Godfather: Part II       202    9.0         0  0   0  0   \n3                       The Dark Knight       152    9.0         0  0   0  0   \n4                          12 Angry Men        96    8.9         1  0   0  0   \n5                      Schindler's List       195    8.9         0  0   0  0   \n..                                  ...       ...    ...       ... ..  .. ..   \n24                           Iron Man 2       124    7.0         0  0   0  0   \n25  Captain America: The Winter Soldier       136    7.7         0  0   0  0   \n26                  The Incredible Hulk       112    6.6         0  0   0  0   \n27                              Ant-Man       117    7.3         0  0   0  0   \n0                               Morbius       108    NaN         0  0   0  0   \n\n    Not Rated  PG  PG-13  ...  Tom McCarthy  Tony Kaye  Victor Fleming  \\\n1           0   0      0  ...             0          0               0   \n2           0   0      0  ...             0          0               0   \n3           0   0      1  ...             0          0               0   \n4           0   0      0  ...             0          0               0   \n5           0   0      0  ...             0          0               0   \n..        ...  ..    ...  ...           ...        ...             ...   \n24          0   0      1  ...             0          0               0   \n25          0   0      1  ...             0          0               0   \n26          0   0      1  ...             0          0               0   \n27          0   0      1  ...             0          0               0   \n0           0   0      1  ...             0          0               0   \n\n    Vittorio De Sica  Wes Anderson  William Wyler  Wolfgang Petersen  \\\n1                  0             0              0                  0   \n2                  0             0              0                  0   \n3                  0             0              0                  0   \n4                  0             0              0                  0   \n5                  0             0              0                  0   \n..               ...           ...            ...                ...   \n24                 0             0              0                  0   \n25                 0             0              0                  0   \n26                 0             0              0                  0   \n27                 0             0              0                  0   \n0                  0             0              0                  0   \n\n    Yarrow Cheney  Yasujirô Ozu  Yavuz Turgul  \n1               0             0             0  \n2               0             0             0  \n3               0             0             0  \n4               0             0             0  \n5               0             0             0  \n..            ...           ...           ...  \n24              0             0             0  \n25              0             0             0  \n26              0             0             0  \n27              0             0             0  \n0               0             0             0  \n\n[350 rows x 252 columns]",
      "text/html": "<div>\n<style scoped>\n    .dataframe tbody tr th:only-of-type {\n        vertical-align: middle;\n    }\n\n    .dataframe tbody tr th {\n        vertical-align: top;\n    }\n\n    .dataframe thead th {\n        text-align: right;\n    }\n</style>\n<table border=\"1\" class=\"dataframe\">\n  <thead>\n    <tr style=\"text-align: right;\">\n      <th></th>\n      <th>title</th>\n      <th>run time</th>\n      <th>Score</th>\n      <th>Approved</th>\n      <th>G</th>\n      <th>GP</th>\n      <th>M</th>\n      <th>Not Rated</th>\n      <th>PG</th>\n      <th>PG-13</th>\n      <th>...</th>\n      <th>Tom McCarthy</th>\n      <th>Tony Kaye</th>\n      <th>Victor Fleming</th>\n      <th>Vittorio De Sica</th>\n      <th>Wes Anderson</th>\n      <th>William Wyler</th>\n      <th>Wolfgang Petersen</th>\n      <th>Yarrow Cheney</th>\n      <th>Yasujirô Ozu</th>\n      <th>Yavuz Turgul</th>\n    </tr>\n  </thead>\n  <tbody>\n    <tr>\n      <th>1</th>\n      <td>The Godfather</td>\n      <td>175</td>\n      <td>9.1</td>\n      <td>0</td>\n      <td>0</td>\n      <td>0</td>\n      <td>0</td>\n      <td>0</td>\n      <td>0</td>\n      <td>0</td>\n      <td>...</td>\n      <td>0</td>\n      <td>0</td>\n      <td>0</td>\n      <td>0</td>\n      <td>0</td>\n      <td>0</td>\n      <td>0</td>\n      <td>0</td>\n      <td>0</td>\n      <td>0</td>\n    </tr>\n    <tr>\n      <th>2</th>\n      <td>The Godfather: Part II</td>\n      <td>202</td>\n      <td>9.0</td>\n      <td>0</td>\n      <td>0</td>\n      <td>0</td>\n      <td>0</td>\n      <td>0</td>\n      <td>0</td>\n      <td>0</td>\n      <td>...</td>\n      <td>0</td>\n      <td>0</td>\n      <td>0</td>\n      <td>0</td>\n      <td>0</td>\n      <td>0</td>\n      <td>0</td>\n      <td>0</td>\n      <td>0</td>\n      <td>0</td>\n    </tr>\n    <tr>\n      <th>3</th>\n      <td>The Dark Knight</td>\n      <td>152</td>\n      <td>9.0</td>\n      <td>0</td>\n      <td>0</td>\n      <td>0</td>\n      <td>0</td>\n      <td>0</td>\n      <td>0</td>\n      <td>1</td>\n      <td>...</td>\n      <td>0</td>\n      <td>0</td>\n      <td>0</td>\n      <td>0</td>\n      <td>0</td>\n      <td>0</td>\n      <td>0</td>\n      <td>0</td>\n      <td>0</td>\n      <td>0</td>\n    </tr>\n    <tr>\n      <th>4</th>\n      <td>12 Angry Men</td>\n      <td>96</td>\n      <td>8.9</td>\n      <td>1</td>\n      <td>0</td>\n      <td>0</td>\n      <td>0</td>\n      <td>0</td>\n      <td>0</td>\n      <td>0</td>\n      <td>...</td>\n      <td>0</td>\n      <td>0</td>\n      <td>0</td>\n      <td>0</td>\n      <td>0</td>\n      <td>0</td>\n      <td>0</td>\n      <td>0</td>\n      <td>0</td>\n      <td>0</td>\n    </tr>\n    <tr>\n      <th>5</th>\n      <td>Schindler's List</td>\n      <td>195</td>\n      <td>8.9</td>\n      <td>0</td>\n      <td>0</td>\n      <td>0</td>\n      <td>0</td>\n      <td>0</td>\n      <td>0</td>\n      <td>0</td>\n      <td>...</td>\n      <td>0</td>\n      <td>0</td>\n      <td>0</td>\n      <td>0</td>\n      <td>0</td>\n      <td>0</td>\n      <td>0</td>\n      <td>0</td>\n      <td>0</td>\n      <td>0</td>\n    </tr>\n    <tr>\n      <th>...</th>\n      <td>...</td>\n      <td>...</td>\n      <td>...</td>\n      <td>...</td>\n      <td>...</td>\n      <td>...</td>\n      <td>...</td>\n      <td>...</td>\n      <td>...</td>\n      <td>...</td>\n      <td>...</td>\n      <td>...</td>\n      <td>...</td>\n      <td>...</td>\n      <td>...</td>\n      <td>...</td>\n      <td>...</td>\n      <td>...</td>\n      <td>...</td>\n      <td>...</td>\n      <td>...</td>\n    </tr>\n    <tr>\n      <th>24</th>\n      <td>Iron Man 2</td>\n      <td>124</td>\n      <td>7.0</td>\n      <td>0</td>\n      <td>0</td>\n      <td>0</td>\n      <td>0</td>\n      <td>0</td>\n      <td>0</td>\n      <td>1</td>\n      <td>...</td>\n      <td>0</td>\n      <td>0</td>\n      <td>0</td>\n      <td>0</td>\n      <td>0</td>\n      <td>0</td>\n      <td>0</td>\n      <td>0</td>\n      <td>0</td>\n      <td>0</td>\n    </tr>\n    <tr>\n      <th>25</th>\n      <td>Captain America: The Winter Soldier</td>\n      <td>136</td>\n      <td>7.7</td>\n      <td>0</td>\n      <td>0</td>\n      <td>0</td>\n      <td>0</td>\n      <td>0</td>\n      <td>0</td>\n      <td>1</td>\n      <td>...</td>\n      <td>0</td>\n      <td>0</td>\n      <td>0</td>\n      <td>0</td>\n      <td>0</td>\n      <td>0</td>\n      <td>0</td>\n      <td>0</td>\n      <td>0</td>\n      <td>0</td>\n    </tr>\n    <tr>\n      <th>26</th>\n      <td>The Incredible Hulk</td>\n      <td>112</td>\n      <td>6.6</td>\n      <td>0</td>\n      <td>0</td>\n      <td>0</td>\n      <td>0</td>\n      <td>0</td>\n      <td>0</td>\n      <td>1</td>\n      <td>...</td>\n      <td>0</td>\n      <td>0</td>\n      <td>0</td>\n      <td>0</td>\n      <td>0</td>\n      <td>0</td>\n      <td>0</td>\n      <td>0</td>\n      <td>0</td>\n      <td>0</td>\n    </tr>\n    <tr>\n      <th>27</th>\n      <td>Ant-Man</td>\n      <td>117</td>\n      <td>7.3</td>\n      <td>0</td>\n      <td>0</td>\n      <td>0</td>\n      <td>0</td>\n      <td>0</td>\n      <td>0</td>\n      <td>1</td>\n      <td>...</td>\n      <td>0</td>\n      <td>0</td>\n      <td>0</td>\n      <td>0</td>\n      <td>0</td>\n      <td>0</td>\n      <td>0</td>\n      <td>0</td>\n      <td>0</td>\n      <td>0</td>\n    </tr>\n    <tr>\n      <th>0</th>\n      <td>Morbius</td>\n      <td>108</td>\n      <td>NaN</td>\n      <td>0</td>\n      <td>0</td>\n      <td>0</td>\n      <td>0</td>\n      <td>0</td>\n      <td>0</td>\n      <td>1</td>\n      <td>...</td>\n      <td>0</td>\n      <td>0</td>\n      <td>0</td>\n      <td>0</td>\n      <td>0</td>\n      <td>0</td>\n      <td>0</td>\n      <td>0</td>\n      <td>0</td>\n      <td>0</td>\n    </tr>\n  </tbody>\n</table>\n<p>350 rows × 252 columns</p>\n</div>"
     },
     "execution_count": 179,
     "metadata": {},
     "output_type": "execute_result"
    }
   ],
   "source": [
    "movies"
   ],
   "metadata": {
    "collapsed": false,
    "pycharm": {
     "name": "#%%\n"
    }
   }
  },
  {
   "cell_type": "code",
   "execution_count": 180,
   "outputs": [],
   "source": [
    "movies.drop_duplicates(subset = [\"title\"], keep = \"last\", inplace=True)"
   ],
   "metadata": {
    "collapsed": false,
    "pycharm": {
     "name": "#%%\n"
    }
   }
  },
  {
   "cell_type": "code",
   "execution_count": 181,
   "outputs": [
    {
     "data": {
      "text/plain": "The Godfather                1\nIt Happened One Night        1\nDemon Slayer: Mugen Train    1\nThe Princess Bride           1\nNights of Cabiria            1\n                            ..\nFor a Few Dollars More       1\nToy Story 3                  1\nTo Kill a Mockingbird        1\nPather Panchali              1\nMorbius                      1\nName: title, Length: 350, dtype: int64"
     },
     "execution_count": 181,
     "metadata": {},
     "output_type": "execute_result"
    }
   ],
   "source": [
    "movies.title.value_counts()"
   ],
   "metadata": {
    "collapsed": false,
    "pycharm": {
     "name": "#%%\n"
    }
   }
  },
  {
   "cell_type": "code",
   "execution_count": 182,
   "outputs": [],
   "source": [
    "# sns.pairplot(movies)"
   ],
   "metadata": {
    "collapsed": false,
    "pycharm": {
     "name": "#%%\n"
    }
   }
  },
  {
   "cell_type": "code",
   "execution_count": 183,
   "outputs": [],
   "source": [
    "from sklearn.feature_extraction.text import TfidfVectorizer, CountVectorizer\n",
    "tfidf = CountVectorizer()\n",
    "new_drop = tfidf.fit_transform(movies[\"title\"]).toarray()"
   ],
   "metadata": {
    "collapsed": false,
    "pycharm": {
     "name": "#%%\n"
    }
   }
  },
  {
   "cell_type": "code",
   "execution_count": 184,
   "outputs": [
    {
     "data": {
      "text/plain": "numpy.ndarray"
     },
     "execution_count": 184,
     "metadata": {},
     "output_type": "execute_result"
    }
   ],
   "source": [
    "type(new_drop)"
   ],
   "metadata": {
    "collapsed": false,
    "pycharm": {
     "name": "#%%\n"
    }
   }
  },
  {
   "cell_type": "code",
   "execution_count": 185,
   "outputs": [
    {
     "data": {
      "text/plain": "{'the': 515,\n 'godfather': 189,\n 'part': 379,\n 'ii': 238,\n 'dark': 111,\n 'knight': 274,\n '12': 0,\n 'angry': 26,\n 'men': 314,\n 'schindler': 444,\n 'list': 291,\n 'lord': 296,\n 'of': 359,\n 'rings': 426,\n 'return': 421,\n 'king': 271,\n 'pulp': 400,\n 'fiction': 164,\n 'good': 193,\n 'bad': 42,\n 'and': 22,\n 'ugly': 538,\n 'fellowship': 161,\n 'ring': 425,\n 'fight': 165,\n 'club': 102,\n 'forrest': 172,\n 'gump': 204,\n 'inception': 243,\n 'two': 537,\n 'towers': 530,\n 'star': 490,\n 'wars': 561,\n 'episode': 147,\n 'empire': 143,\n 'strikes': 502,\n 'back': 41,\n 'goodfellas': 194,\n 'one': 365,\n 'flew': 169,\n 'over': 372,\n 'cuckoo': 109,\n 'nest': 344,\n 'seven': 452,\n 'samurai': 440,\n 'se7en': 446,\n 'silence': 462,\n 'lambs': 279,\n 'city': 98,\n 'god': 188,\n 'life': 287,\n 'is': 254,\n 'beautiful': 50,\n 'saving': 442,\n 'private': 396,\n 'ryan': 439,\n 'iv': 257,\n 'new': 346,\n 'hope': 225,\n 'interstellar': 250,\n 'spirited': 484,\n 'away': 39,\n 'green': 200,\n 'mile': 317,\n 'parasite': 377,\n 'léon': 302,\n 'professional': 397,\n 'hara': 214,\n 'kiri': 272,\n 'pianist': 386,\n 'terminator': 514,\n 'judgment': 266,\n 'day': 113,\n 'to': 526,\n 'future': 179,\n 'usual': 546,\n 'suspects': 507,\n 'psycho': 399,\n 'lion': 290,\n 'modern': 322,\n 'times': 525,\n 'grave': 198,\n 'fireflies': 167,\n 'american': 19,\n 'history': 220,\n 'whiplash': 568,\n 'gladiator': 186,\n 'lights': 288,\n 'departed': 118,\n 'intouchables': 252,\n 'prestige': 393,\n 'casablanca': 86,\n 'once': 364,\n 'upon': 545,\n 'time': 524,\n 'in': 240,\n 'west': 567,\n 'rear': 412,\n 'window': 574,\n 'cinema': 96,\n 'paradiso': 376,\n 'alien': 11,\n 'apocalypse': 30,\n 'now': 356,\n 'memento': 312,\n 'indiana': 246,\n 'jones': 264,\n 'raiders': 407,\n 'lost': 297,\n 'ark': 33,\n 'great': 199,\n 'dictator': 121,\n 'django': 124,\n 'unchained': 540,\n 'lives': 292,\n 'others': 368,\n 'paths': 383,\n 'glory': 187,\n 'sunset': 505,\n 'blvd': 66,\n 'wall': 558,\n 'witness': 577,\n 'for': 170,\n 'prosecution': 398,\n 'shining': 457,\n 'dr': 133,\n 'strangelove': 499,\n 'or': 366,\n 'how': 229,\n 'learned': 282,\n 'stop': 496,\n 'worrying': 580,\n 'love': 298,\n 'bomb': 67,\n 'princess': 394,\n 'mononoke': 324,\n 'oldboy': 362,\n 'joker': 263,\n 'your': 587,\n 'name': 339,\n 'coco': 103,\n 'rises': 428,\n 'aliens': 12,\n 'america': 18,\n 'capernaum': 82,\n 'das': 112,\n 'boot': 70,\n 'high': 219,\n 'low': 299,\n 'idiots': 236,\n 'toy': 531,\n 'story': 497,\n 'beauty': 51,\n 'amadeus': 16,\n 'braveheart': 72,\n 'inglourious': 248,\n 'basterds': 46,\n 'hamilton': 210,\n 'will': 572,\n 'hunting': 234,\n 'vi': 554,\n 'jedi': 260,\n '2001': 2,\n 'space': 482,\n 'odyssey': 358,\n 'come': 104,\n 'see': 449,\n 'reservoir': 418,\n 'dogs': 127,\n 'like': 289,\n 'stars': 491,\n 'on': 363,\n 'earth': 139,\n 'vertigo': 553,\n 'citizen': 97,\n 'kane': 268,\n 'hunt': 232,\n 'requiem': 417,\n 'dream': 135,\n 'singin': 465,\n 'rain': 408,\n 'north': 351,\n 'by': 78,\n 'northwest': 352,\n 'eternal': 149,\n 'sunshine': 506,\n 'spotless': 485,\n 'mind': 319,\n 'ikiru': 239,\n 'bicycle': 57,\n 'thieves': 518,\n 'lawrence': 281,\n 'arabia': 31,\n 'kid': 269,\n 'full': 177,\n 'metal': 315,\n 'jacket': 258,\n 'dangal': 110,\n 'incendies': 242,\n 'apartment': 29,\n 'father': 159,\n 'double': 131,\n 'indemnity': 245,\n 'metropolis': 316,\n 'taxi': 512,\n 'driver': 136,\n 'clockwork': 101,\n 'orange': 367,\n 'separation': 451,\n 'sting': 492,\n 'scarface': 443,\n 'snatch': 472,\n '1917': 1,\n 'amélie': 21,\n 'pather': 382,\n 'panchali': 374,\n 'kill': 270,\n 'mockingbird': 321,\n 'few': 163,\n 'dollars': 129,\n 'more': 329,\n 'up': 544,\n 'last': 280,\n 'crusade': 108,\n 'heat': 217,\n 'confidential': 105,\n 'yojimbo': 584,\n 'ran': 409,\n 'rashomon': 410,\n 'book': 68,\n 'downfall': 132,\n 'monty': 326,\n 'python': 402,\n 'holy': 222,\n 'grail': 195,\n 'all': 13,\n 'about': 5,\n 'eve': 152,\n 'some': 476,\n 'it': 256,\n 'hot': 226,\n 'batman': 47,\n 'begins': 53,\n 'unforgiven': 543,\n 'children': 91,\n 'heaven': 218,\n 'jai': 259,\n 'bhim': 56,\n 'howl': 230,\n 'moving': 332,\n 'castle': 88,\n 'wolf': 578,\n 'street': 501,\n 'at': 34,\n 'nuremberg': 357,\n 'there': 517,\n 'be': 49,\n 'blood': 64,\n 'escape': 148,\n 'casino': 87,\n 'treasure': 535,\n 'sierra': 461,\n 'madre': 305,\n 'pan': 373,\n 'labyrinth': 278,\n 'secret': 448,\n 'their': 516,\n 'eyes': 155,\n 'raging': 405,\n 'bull': 77,\n 'chinatown': 92,\n 'my': 338,\n 'neighbor': 341,\n 'totoro': 529,\n 'dersu': 119,\n 'uzala': 547,\n 'shutter': 459,\n 'island': 255,\n 'lock': 293,\n 'stock': 493,\n 'smoking': 471,\n 'barrels': 44,\n 'no': 350,\n 'country': 107,\n 'old': 361,\n 'dial': 120,\n 'murder': 336,\n 'gold': 191,\n 'rush': 437,\n 'thing': 519,\n 'three': 522,\n 'billboards': 60,\n 'outside': 371,\n 'ebbing': 140,\n 'missouri': 320,\n 'seventh': 453,\n 'seal': 447,\n 'elephant': 141,\n 'man': 306,\n 'sixth': 467,\n 'sense': 450,\n 'truman': 536,\n 'show': 458,\n 'jurassic': 267,\n 'park': 378,\n 'wild': 571,\n 'strawberries': 500,\n 'third': 520,\n 'memories': 313,\n 'vendetta': 550,\n 'blade': 63,\n 'runner': 436,\n 'trainspotting': 534,\n 'inside': 249,\n 'out': 369,\n 'bridge': 75,\n 'river': 429,\n 'kwai': 276,\n 'fargo': 158,\n 'finding': 166,\n 'nemo': 342,\n 'warrior': 560,\n 'bill': 59,\n 'vol': 556,\n 'gone': 192,\n 'with': 576,\n 'wind': 573,\n 'tokyo': 527,\n 'waterfront': 564,\n 'son': 477,\n 'tales': 511,\n 'stalker': 488,\n 'prisoners': 395,\n 'deer': 116,\n 'hunter': 233,\n 'grand': 197,\n 'budapest': 76,\n 'hotel': 227,\n 'general': 182,\n 'sherlock': 456,\n 'jr': 265,\n 'gran': 196,\n 'torino': 528,\n 'persona': 385,\n 'before': 52,\n 'sunrise': 504,\n 'mary': 308,\n 'max': 310,\n 'catch': 89,\n 'me': 311,\n 'if': 237,\n 'you': 586,\n 'can': 81,\n 'mr': 333,\n 'smith': 470,\n 'goes': 190,\n 'washington': 562,\n 'barry': 45,\n 'lyndon': 301,\n 'room': 433,\n 'girl': 185,\n 'hacksaw': 207,\n 'ridge': 424,\n 'passion': 381,\n 'joan': 262,\n 'arc': 32,\n 'andhadhun': 23,\n 'ford': 171,\n 'ferrari': 162,\n 'years': 583,\n 'slave': 468,\n 'not': 353,\n 'big': 58,\n 'lebowski': 283,\n 'dead': 114,\n 'poets': 389,\n 'society': 473,\n 'train': 533,\n 'dragon': 134,\n 'mad': 304,\n 'fury': 178,\n 'road': 430,\n 'ben': 55,\n 'hur': 235,\n 'autumn': 36,\n 'sonata': 478,\n 'harry': 216,\n 'potter': 391,\n 'deathly': 115,\n 'hallows': 209,\n 'million': 318,\n 'dollar': 128,\n 'baby': 40,\n 'handmaiden': 212,\n 'wages': 557,\n 'fear': 160,\n 'stand': 489,\n 'network': 345,\n 'logan': 294,\n 'cool': 106,\n 'hand': 211,\n 'luke': 300,\n 'la': 277,\n 'haine': 208,\n 'hachi': 206,\n 'dog': 126,\n 'tale': 510,\n 'silent': 463,\n 'voice': 555,\n 'movie': 331,\n '400': 3,\n 'blows': 65,\n 'gangs': 181,\n 'wasseypur': 563,\n 'platoon': 388,\n 'spotlight': 486,\n 'monsters': 325,\n 'inc': 241,\n 'rebecca': 413,\n 'brian': 73,\n 'mood': 327,\n 'bandit': 43,\n 'rwanda': 438,\n 'into': 251,\n 'rocky': 431,\n 'amores': 20,\n 'perros': 384,\n 'nausicaä': 340,\n 'valley': 549,\n 'happened': 213,\n 'night': 347,\n 'fanny': 156,\n 'alexander': 9,\n 'andrei': 24,\n 'rublev': 434,\n 'neon': 343,\n 'genesis': 183,\n 'evangelion': 151,\n 'end': 145,\n 'battle': 48,\n 'algiers': 10,\n 'nights': 349,\n 'cabiria': 79,\n 'bride': 74,\n 'demon': 117,\n 'slayer': 469,\n 'mugen': 334,\n 'raatchasan': 403,\n 'matrix': 309,\n 'resurrections': 420,\n 'don': 130,\n 'look': 295,\n 'encanto': 144,\n 'christmas': 93,\n 'vacation': 548,\n 'unforgivable': 542,\n 'actually': 6,\n 'home': 223,\n 'alone': 15,\n 'being': 54,\n 'ricardos': 423,\n 'resident': 419,\n 'evil': 153,\n 'welcome': 566,\n 'raccoon': 404,\n 'licorice': 286,\n 'pizza': 387,\n 'power': 392,\n 'pushpa': 401,\n 'rise': 427,\n 'spider': 483,\n 'side': 460,\n 'wonderful': 579,\n 'die': 122,\n 'hard': 215,\n 'nightmare': 348,\n 'alley': 14,\n 'grinch': 201,\n 'stole': 494,\n 'elf': 142,\n 'dune': 138,\n 'amazing': 17,\n 'white': 569,\n 'sing': 464,\n 'duel': 137,\n 'reloaded': 416,\n 'boy': 71,\n 'called': 80,\n 'french': 175,\n 'dispatch': 123,\n 'venom': 551,\n 'let': 285,\n 'carnage': 84,\n 'house': 228,\n 'gucci': 203,\n 'revolutions': 422,\n 'santa': 441,\n 'clause': 100,\n '83': 4,\n 'tick': 523,\n 'boom': 69,\n 'york': 585,\n 'swan': 508,\n 'song': 479,\n 'scrooged': 445,\n 'polar': 390,\n 'express': 154,\n 'tragedy': 532,\n 'macbeth': 303,\n 'ron': 432,\n 'wrong': 582,\n 'klaus': 273,\n 'holiday': 221,\n 'sound': 481,\n 'music': 337,\n 'verse': 552,\n 'red': 414,\n 'notice': 354,\n 'sorcerer': 480,\n 'stone': 495,\n 'single': 466,\n 'way': 565,\n 'mother': 330,\n 'android': 25,\n 'underdog': 541,\n 'ghostbusters': 184,\n 'afterlife': 7,\n 'bit': 61,\n 'atrangi': 35,\n 're': 411,\n 'jingle': 261,\n 'free': 174,\n 'guy': 205,\n 'rumble': 435,\n 'chronicles': 95,\n 'antlers': 28,\n 'outback': 370,\n 'sweet': 509,\n 'wrath': 581,\n 'soho': 474,\n 'shawshank': 455,\n 'redemption': 415,\n 'muppet': 335,\n 'carol': 85,\n 'office': 360,\n 'party': 380,\n 'mon': 323,\n 'suicide': 503,\n 'squad': 487,\n 'four': 173,\n 'christmases': 94,\n 'krampus': 275,\n 'novice': 355,\n 'homecoming': 224,\n 'far': 157,\n 'from': 176,\n 'shang': 454,\n 'chi': 90,\n 'legend': 284,\n 'ten': 513,\n 'eternals': 150,\n 'avengers': 38,\n 'endgame': 146,\n 'black': 62,\n 'widow': 570,\n 'infinity': 247,\n 'war': 559,\n 'doctor': 125,\n 'strange': 498,\n 'captain': 83,\n 'civil': 99,\n 'iron': 253,\n 'thor': 521,\n 'ragnarok': 406,\n 'guardians': 202,\n 'galaxy': 180,\n 'panther': 375,\n 'marvel': 307,\n 'first': 168,\n 'avenger': 37,\n 'age': 8,\n 'ultron': 539,\n 'winter': 575,\n 'soldier': 475,\n 'incredible': 244,\n 'hulk': 231,\n 'ant': 27,\n 'morbius': 328}"
     },
     "execution_count": 185,
     "metadata": {},
     "output_type": "execute_result"
    }
   ],
   "source": [
    "tfidf.vocabulary_"
   ],
   "metadata": {
    "collapsed": false,
    "pycharm": {
     "name": "#%%\n"
    }
   }
  },
  {
   "cell_type": "code",
   "execution_count": 186,
   "outputs": [
    {
     "data": {
      "text/plain": "Index(['the', 'godfather', 'part', 'ii', 'dark', 'knight', '12', 'angry',\n       'men', 'schindler',\n       ...\n       'first', 'avenger', 'age', 'ultron', 'winter', 'soldier', 'incredible',\n       'hulk', 'ant', 'morbius'],\n      dtype='object', length=588)"
     },
     "execution_count": 186,
     "metadata": {},
     "output_type": "execute_result"
    }
   ],
   "source": [
    "NLP_pd = pd.DataFrame(data = new_drop,columns= tfidf.vocabulary_)\n",
    "NLP_pd.columns"
   ],
   "metadata": {
    "collapsed": false,
    "pycharm": {
     "name": "#%%\n"
    }
   }
  },
  {
   "cell_type": "code",
   "execution_count": 187,
   "outputs": [],
   "source": [
    "movies.append(other = NLP_pd)\n",
    "movies.drop(columns = \"title\",inplace=True)"
   ],
   "metadata": {
    "collapsed": false,
    "pycharm": {
     "name": "#%%\n"
    }
   }
  },
  {
   "cell_type": "code",
   "execution_count": 188,
   "outputs": [
    {
     "data": {
      "text/plain": "    run time  Score  Approved  G  GP  M  Not Rated  PG  PG-13  Passed  ...  \\\n1        175    9.1         0  0   0  0          0   0      0       0  ...   \n2        202    9.0         0  0   0  0          0   0      0       0  ...   \n3        152    9.0         0  0   0  0          0   0      1       0  ...   \n4         96    8.9         1  0   0  0          0   0      0       0  ...   \n5        195    8.9         0  0   0  0          0   0      0       0  ...   \n..       ...    ...       ... ..  .. ..        ...  ..    ...     ...  ...   \n24       124    7.0         0  0   0  0          0   0      1       0  ...   \n25       136    7.7         0  0   0  0          0   0      1       0  ...   \n26       112    6.6         0  0   0  0          0   0      1       0  ...   \n27       117    7.3         0  0   0  0          0   0      1       0  ...   \n0        108    NaN         0  0   0  0          0   0      1       0  ...   \n\n    Tom McCarthy  Tony Kaye  Victor Fleming  Vittorio De Sica  Wes Anderson  \\\n1              0          0               0                 0             0   \n2              0          0               0                 0             0   \n3              0          0               0                 0             0   \n4              0          0               0                 0             0   \n5              0          0               0                 0             0   \n..           ...        ...             ...               ...           ...   \n24             0          0               0                 0             0   \n25             0          0               0                 0             0   \n26             0          0               0                 0             0   \n27             0          0               0                 0             0   \n0              0          0               0                 0             0   \n\n    William Wyler  Wolfgang Petersen  Yarrow Cheney  Yasujirô Ozu  \\\n1               0                  0              0             0   \n2               0                  0              0             0   \n3               0                  0              0             0   \n4               0                  0              0             0   \n5               0                  0              0             0   \n..            ...                ...            ...           ...   \n24              0                  0              0             0   \n25              0                  0              0             0   \n26              0                  0              0             0   \n27              0                  0              0             0   \n0               0                  0              0             0   \n\n    Yavuz Turgul  \n1              0  \n2              0  \n3              0  \n4              0  \n5              0  \n..           ...  \n24             0  \n25             0  \n26             0  \n27             0  \n0              0  \n\n[350 rows x 251 columns]",
      "text/html": "<div>\n<style scoped>\n    .dataframe tbody tr th:only-of-type {\n        vertical-align: middle;\n    }\n\n    .dataframe tbody tr th {\n        vertical-align: top;\n    }\n\n    .dataframe thead th {\n        text-align: right;\n    }\n</style>\n<table border=\"1\" class=\"dataframe\">\n  <thead>\n    <tr style=\"text-align: right;\">\n      <th></th>\n      <th>run time</th>\n      <th>Score</th>\n      <th>Approved</th>\n      <th>G</th>\n      <th>GP</th>\n      <th>M</th>\n      <th>Not Rated</th>\n      <th>PG</th>\n      <th>PG-13</th>\n      <th>Passed</th>\n      <th>...</th>\n      <th>Tom McCarthy</th>\n      <th>Tony Kaye</th>\n      <th>Victor Fleming</th>\n      <th>Vittorio De Sica</th>\n      <th>Wes Anderson</th>\n      <th>William Wyler</th>\n      <th>Wolfgang Petersen</th>\n      <th>Yarrow Cheney</th>\n      <th>Yasujirô Ozu</th>\n      <th>Yavuz Turgul</th>\n    </tr>\n  </thead>\n  <tbody>\n    <tr>\n      <th>1</th>\n      <td>175</td>\n      <td>9.1</td>\n      <td>0</td>\n      <td>0</td>\n      <td>0</td>\n      <td>0</td>\n      <td>0</td>\n      <td>0</td>\n      <td>0</td>\n      <td>0</td>\n      <td>...</td>\n      <td>0</td>\n      <td>0</td>\n      <td>0</td>\n      <td>0</td>\n      <td>0</td>\n      <td>0</td>\n      <td>0</td>\n      <td>0</td>\n      <td>0</td>\n      <td>0</td>\n    </tr>\n    <tr>\n      <th>2</th>\n      <td>202</td>\n      <td>9.0</td>\n      <td>0</td>\n      <td>0</td>\n      <td>0</td>\n      <td>0</td>\n      <td>0</td>\n      <td>0</td>\n      <td>0</td>\n      <td>0</td>\n      <td>...</td>\n      <td>0</td>\n      <td>0</td>\n      <td>0</td>\n      <td>0</td>\n      <td>0</td>\n      <td>0</td>\n      <td>0</td>\n      <td>0</td>\n      <td>0</td>\n      <td>0</td>\n    </tr>\n    <tr>\n      <th>3</th>\n      <td>152</td>\n      <td>9.0</td>\n      <td>0</td>\n      <td>0</td>\n      <td>0</td>\n      <td>0</td>\n      <td>0</td>\n      <td>0</td>\n      <td>1</td>\n      <td>0</td>\n      <td>...</td>\n      <td>0</td>\n      <td>0</td>\n      <td>0</td>\n      <td>0</td>\n      <td>0</td>\n      <td>0</td>\n      <td>0</td>\n      <td>0</td>\n      <td>0</td>\n      <td>0</td>\n    </tr>\n    <tr>\n      <th>4</th>\n      <td>96</td>\n      <td>8.9</td>\n      <td>1</td>\n      <td>0</td>\n      <td>0</td>\n      <td>0</td>\n      <td>0</td>\n      <td>0</td>\n      <td>0</td>\n      <td>0</td>\n      <td>...</td>\n      <td>0</td>\n      <td>0</td>\n      <td>0</td>\n      <td>0</td>\n      <td>0</td>\n      <td>0</td>\n      <td>0</td>\n      <td>0</td>\n      <td>0</td>\n      <td>0</td>\n    </tr>\n    <tr>\n      <th>5</th>\n      <td>195</td>\n      <td>8.9</td>\n      <td>0</td>\n      <td>0</td>\n      <td>0</td>\n      <td>0</td>\n      <td>0</td>\n      <td>0</td>\n      <td>0</td>\n      <td>0</td>\n      <td>...</td>\n      <td>0</td>\n      <td>0</td>\n      <td>0</td>\n      <td>0</td>\n      <td>0</td>\n      <td>0</td>\n      <td>0</td>\n      <td>0</td>\n      <td>0</td>\n      <td>0</td>\n    </tr>\n    <tr>\n      <th>...</th>\n      <td>...</td>\n      <td>...</td>\n      <td>...</td>\n      <td>...</td>\n      <td>...</td>\n      <td>...</td>\n      <td>...</td>\n      <td>...</td>\n      <td>...</td>\n      <td>...</td>\n      <td>...</td>\n      <td>...</td>\n      <td>...</td>\n      <td>...</td>\n      <td>...</td>\n      <td>...</td>\n      <td>...</td>\n      <td>...</td>\n      <td>...</td>\n      <td>...</td>\n      <td>...</td>\n    </tr>\n    <tr>\n      <th>24</th>\n      <td>124</td>\n      <td>7.0</td>\n      <td>0</td>\n      <td>0</td>\n      <td>0</td>\n      <td>0</td>\n      <td>0</td>\n      <td>0</td>\n      <td>1</td>\n      <td>0</td>\n      <td>...</td>\n      <td>0</td>\n      <td>0</td>\n      <td>0</td>\n      <td>0</td>\n      <td>0</td>\n      <td>0</td>\n      <td>0</td>\n      <td>0</td>\n      <td>0</td>\n      <td>0</td>\n    </tr>\n    <tr>\n      <th>25</th>\n      <td>136</td>\n      <td>7.7</td>\n      <td>0</td>\n      <td>0</td>\n      <td>0</td>\n      <td>0</td>\n      <td>0</td>\n      <td>0</td>\n      <td>1</td>\n      <td>0</td>\n      <td>...</td>\n      <td>0</td>\n      <td>0</td>\n      <td>0</td>\n      <td>0</td>\n      <td>0</td>\n      <td>0</td>\n      <td>0</td>\n      <td>0</td>\n      <td>0</td>\n      <td>0</td>\n    </tr>\n    <tr>\n      <th>26</th>\n      <td>112</td>\n      <td>6.6</td>\n      <td>0</td>\n      <td>0</td>\n      <td>0</td>\n      <td>0</td>\n      <td>0</td>\n      <td>0</td>\n      <td>1</td>\n      <td>0</td>\n      <td>...</td>\n      <td>0</td>\n      <td>0</td>\n      <td>0</td>\n      <td>0</td>\n      <td>0</td>\n      <td>0</td>\n      <td>0</td>\n      <td>0</td>\n      <td>0</td>\n      <td>0</td>\n    </tr>\n    <tr>\n      <th>27</th>\n      <td>117</td>\n      <td>7.3</td>\n      <td>0</td>\n      <td>0</td>\n      <td>0</td>\n      <td>0</td>\n      <td>0</td>\n      <td>0</td>\n      <td>1</td>\n      <td>0</td>\n      <td>...</td>\n      <td>0</td>\n      <td>0</td>\n      <td>0</td>\n      <td>0</td>\n      <td>0</td>\n      <td>0</td>\n      <td>0</td>\n      <td>0</td>\n      <td>0</td>\n      <td>0</td>\n    </tr>\n    <tr>\n      <th>0</th>\n      <td>108</td>\n      <td>NaN</td>\n      <td>0</td>\n      <td>0</td>\n      <td>0</td>\n      <td>0</td>\n      <td>0</td>\n      <td>0</td>\n      <td>1</td>\n      <td>0</td>\n      <td>...</td>\n      <td>0</td>\n      <td>0</td>\n      <td>0</td>\n      <td>0</td>\n      <td>0</td>\n      <td>0</td>\n      <td>0</td>\n      <td>0</td>\n      <td>0</td>\n      <td>0</td>\n    </tr>\n  </tbody>\n</table>\n<p>350 rows × 251 columns</p>\n</div>"
     },
     "execution_count": 188,
     "metadata": {},
     "output_type": "execute_result"
    }
   ],
   "source": [
    "movies"
   ],
   "metadata": {
    "collapsed": false,
    "pycharm": {
     "name": "#%%\n"
    }
   }
  },
  {
   "cell_type": "code",
   "execution_count": 188,
   "outputs": [],
   "source": [],
   "metadata": {
    "collapsed": false,
    "pycharm": {
     "name": "#%%\n"
    }
   }
  },
  {
   "cell_type": "code",
   "execution_count": 189,
   "outputs": [],
   "source": [
    "new_cat = []\n",
    "for i in movies.Score:\n",
    "    if i>0 and i  <=1:\n",
    "        new_cat.append(\"the score is either <=1\")\n",
    "    elif i >1 and i <=2:\n",
    "        new_cat.append(\"the score is >1 but <=2\")\n",
    "    elif i >2 and i<=3:\n",
    "        new_cat.append(\"the score is >2 but <=3\")\n",
    "    elif i >3 and i<=4:\n",
    "        new_cat.append(\"the score is >3 but <= 4\")\n",
    "    elif i >4 and i<=5:\n",
    "        new_cat.append(\"the score is >4 but <=5\")\n",
    "    elif i >5 and i<=6:\n",
    "        new_cat.append(\"the score is >5 but <=6\")\n",
    "    elif i >6 and i<=7:\n",
    "        new_cat.append(\"the score is >6 but <=7\")\n",
    "    elif i >7 and i<=8:\n",
    "        new_cat.append(\"the score is >7 but <=8\")\n",
    "    elif i >8 and i <=9:\n",
    "        new_cat.append(\"the score is >8 and <=9\")\n",
    "    elif i >9 and i<=10:\n",
    "        new_cat.append(\"the score is >9 but <=10\")\n",
    "\n",
    "# movies[\"new score\"] = new_cat"
   ],
   "metadata": {
    "collapsed": false,
    "pycharm": {
     "name": "#%%\n"
    }
   }
  },
  {
   "cell_type": "code",
   "execution_count": 190,
   "outputs": [],
   "source": [
    "# movies[\"new score\"].value_counts()"
   ],
   "metadata": {
    "collapsed": false,
    "pycharm": {
     "name": "#%%\n"
    }
   }
  },
  {
   "cell_type": "code",
   "execution_count": 191,
   "outputs": [],
   "source": [
    "# movies.drop(columns = \"Score\",inplace = True)\n",
    "score = [ i for i in movies.Score]\n",
    "movies.drop(columns = \"Score\",inplace = True)\n",
    "movies[\"Score\"] = score"
   ],
   "metadata": {
    "collapsed": false,
    "pycharm": {
     "name": "#%%\n"
    }
   }
  },
  {
   "cell_type": "code",
   "execution_count": 210,
   "outputs": [
    {
     "data": {
      "text/plain": "array([[108.,   0.,   0.,   0.,   0.,   0.,   0.,   1.,   0.,   0.,   0.,\n          0.,   0.,   0.,   1.,   0.,   0.,   0.,   0.,   0.,   0.,   0.,\n          0.,   0.,   0.,   0.,   0.,   0.,   0.,   0.,   0.,   0.,   0.,\n          0.,   0.,   0.,   0.,   0.,   0.,   0.,   0.,   0.,   0.,   0.,\n          0.,   0.,   0.,   0.,   0.,   0.,   0.,   0.,   0.,   0.,   0.,\n          0.,   0.,   0.,   0.,   0.,   0.,   0.,   0.,   0.,   0.,   0.,\n          0.,   0.,   0.,   1.,   0.,   0.,   0.,   0.,   0.,   0.,   0.,\n          0.,   0.,   0.,   0.,   0.,   0.,   0.,   0.,   0.,   0.,   0.,\n          0.,   0.,   0.,   0.,   0.,   0.,   0.,   0.,   0.,   0.,   0.,\n          0.,   0.,   0.,   0.,   0.,   0.,   0.,   0.,   0.,   0.,   0.,\n          0.,   0.,   0.,   0.,   0.,   0.,   0.,   0.,   0.,   0.,   0.,\n          0.,   0.,   0.,   0.,   0.,   0.,   0.,   0.,   0.,   0.,   0.,\n          0.,   0.,   0.,   0.,   0.,   0.,   0.,   0.,   0.,   0.,   0.,\n          0.,   0.,   0.,   0.,   0.,   0.,   0.,   0.,   0.,   0.,   0.,\n          0.,   0.,   0.,   0.,   0.,   0.,   0.,   0.,   0.,   0.,   0.,\n          0.,   0.,   0.,   0.,   0.,   0.,   0.,   0.,   0.,   0.,   0.,\n          0.,   0.,   0.,   0.,   0.,   0.,   0.,   0.,   0.,   0.,   0.,\n          0.,   0.,   0.,   0.,   0.,   0.,   0.,   0.,   0.,   0.,   0.,\n          0.,   0.,   0.,   0.,   0.,   0.,   0.,   0.,   0.,   0.,   0.,\n          0.,   0.,   0.,   0.,   0.,   0.,   0.,   0.,   0.,   0.,   0.,\n          0.,   0.,   0.,   0.,   0.,   0.,   0.,   0.,   0.,   0.,   0.,\n          0.,   0.,   0.,   0.,   0.,   0.,   0.,   0.,   0.,   0.,   0.,\n          0.,   0.,   0.,   0.,   0.,   0.,   0.,   0.]])"
     },
     "execution_count": 210,
     "metadata": {},
     "output_type": "execute_result"
    }
   ],
   "source": [
    "X = np.array(movies.iloc[:-1,:-1].values)\n",
    "y = np.array(movies.iloc[:-1,-1].values)\n",
    "predicted_movie_df = np.array(movies.iloc[-1,:-1]).reshape(1,-1)\n",
    "predicted_movie_df"
   ],
   "metadata": {
    "collapsed": false,
    "pycharm": {
     "name": "#%%\n"
    }
   }
  },
  {
   "cell_type": "code",
   "execution_count": 197,
   "outputs": [],
   "source": [
    "from sklearn.model_selection import train_test_split\n",
    "X_train,X_test, y_train,y_test = train_test_split(X,\n",
    "                                                  y,\n",
    "                                                  test_size=0.25)"
   ],
   "metadata": {
    "collapsed": false,
    "pycharm": {
     "name": "#%%\n"
    }
   }
  },
  {
   "cell_type": "code",
   "execution_count": 198,
   "outputs": [],
   "source": [
    "# gnb = GaussianNB()\n",
    "# gnb.fit(X_train, y_train)\n",
    "# gnb.score(X_test,y_test)"
   ],
   "metadata": {
    "collapsed": false,
    "pycharm": {
     "name": "#%%\n"
    }
   }
  },
  {
   "cell_type": "code",
   "execution_count": 199,
   "outputs": [],
   "source": [
    "# dec = ir.DT(X,y,test_size=0.3)\n",
    "# dt,X_test,y_test = dec.build(test=True)"
   ],
   "metadata": {
    "collapsed": false,
    "pycharm": {
     "name": "#%%\n"
    }
   }
  },
  {
   "cell_type": "code",
   "execution_count": 200,
   "outputs": [],
   "source": [
    "# dt.score(X_test,y_test)"
   ],
   "metadata": {
    "collapsed": false,
    "pycharm": {
     "name": "#%%\n"
    }
   }
  },
  {
   "cell_type": "code",
   "execution_count": 201,
   "outputs": [],
   "source": [
    "# from sklearn.naive_bayes import CategoricalNB\n",
    "# for i in range(2,20):\n",
    "#     cat = CategoricalNB(min_categories=i)\n",
    "#     cat.fit(X_train,y_train)\n",
    "#     print(cat.score(X_test,y_test))"
   ],
   "metadata": {
    "collapsed": false,
    "pycharm": {
     "name": "#%%\n"
    }
   }
  },
  {
   "cell_type": "code",
   "execution_count": 202,
   "outputs": [],
   "source": [
    "# from sklearn.naive_bayes import BernoulliNB\n",
    "# ber = BernoulliNB()"
   ],
   "metadata": {
    "collapsed": false,
    "pycharm": {
     "name": "#%%\n"
    }
   }
  },
  {
   "cell_type": "code",
   "execution_count": 203,
   "outputs": [],
   "source": [
    "# ber.fit(X_train,y_train)\n",
    "# ber.score(X_test,y_test)"
   ],
   "metadata": {
    "collapsed": false,
    "pycharm": {
     "name": "#%%\n"
    }
   }
  },
  {
   "cell_type": "code",
   "execution_count": 204,
   "outputs": [],
   "source": [
    "# from sklearn.naive_bayes import MultinomialNB\n",
    "# mul = MultinomialNB()\n",
    "# mul.fit(X_train,y_train)\n",
    "# mul.score(X_test,y_test)"
   ],
   "metadata": {
    "collapsed": false,
    "pycharm": {
     "name": "#%%\n"
    }
   }
  },
  {
   "cell_type": "code",
   "execution_count": 205,
   "outputs": [],
   "source": [
    "# from sklearn.naive_bayes import ComplementNB\n",
    "# com = ComplementNB()\n",
    "# com.fit(X_train,y_train)\n",
    "# com.score(X_test,y_test)"
   ],
   "metadata": {
    "collapsed": false,
    "pycharm": {
     "name": "#%%\n"
    }
   }
  },
  {
   "cell_type": "code",
   "execution_count": 206,
   "outputs": [],
   "source": [
    "# from sklearn.ensemble import RandomForestClassifier\n",
    "# ran = RandomForestClassifier()\n",
    "# ran.fit(X_train,y_train)\n",
    "# ran.score(X_test,y_test)"
   ],
   "metadata": {
    "collapsed": false,
    "pycharm": {
     "name": "#%%\n"
    }
   }
  },
  {
   "cell_type": "code",
   "execution_count": 207,
   "outputs": [
    {
     "data": {
      "text/plain": "0.052459207007480635"
     },
     "execution_count": 207,
     "metadata": {},
     "output_type": "execute_result"
    }
   ],
   "source": [
    "from sklearn.tree import DecisionTreeRegressor\n",
    "\n",
    "dtr = DecisionTreeRegressor()\n",
    "dtr.fit(X_train, y_train)\n",
    "dtr.score(X_test, y_test)"
   ],
   "metadata": {
    "collapsed": false,
    "pycharm": {
     "name": "#%%\n"
    }
   }
  },
  {
   "cell_type": "code",
   "execution_count": 208,
   "outputs": [
    {
     "data": {
      "text/plain": "array([6.6])"
     },
     "execution_count": 208,
     "metadata": {},
     "output_type": "execute_result"
    }
   ],
   "source": [
    "dtr.predict(predicted_movie_df)"
   ],
   "metadata": {
    "collapsed": false,
    "pycharm": {
     "name": "#%%\n"
    }
   }
  }
 ],
 "metadata": {
  "kernelspec": {
   "display_name": "Python 3",
   "language": "python",
   "name": "python3"
  },
  "language_info": {
   "codemirror_mode": {
    "name": "ipython",
    "version": 2
   },
   "file_extension": ".py",
   "mimetype": "text/x-python",
   "name": "python",
   "nbconvert_exporter": "python",
   "pygments_lexer": "ipython2",
   "version": "2.7.6"
  }
 },
 "nbformat": 4,
 "nbformat_minor": 0
}